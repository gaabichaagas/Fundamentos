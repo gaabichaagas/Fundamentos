{
  "nbformat": 4,
  "nbformat_minor": 0,
  "metadata": {
    "colab": {
      "provenance": [],
      "authorship_tag": "ABX9TyMZSV6avs7bKHRUHOGA1WIv",
      "include_colab_link": true
    },
    "kernelspec": {
      "name": "python3",
      "display_name": "Python 3"
    },
    "language_info": {
      "name": "python"
    }
  },
  "cells": [
    {
      "cell_type": "markdown",
      "metadata": {
        "id": "view-in-github",
        "colab_type": "text"
      },
      "source": [
        "<a href=\"https://colab.research.google.com/github/gaabichaagas/Fundamentos/blob/main/Coleta_Dados.ipynb\" target=\"_parent\"><img src=\"https://colab.research.google.com/assets/colab-badge.svg\" alt=\"Open In Colab\"/></a>"
      ]
    },
    {
      "cell_type": "code",
      "source": [
        "!pip install tinydb"
      ],
      "metadata": {
        "colab": {
          "base_uri": "https://localhost:8080/"
        },
        "id": "XKDEKFweT-Ru",
        "outputId": "b059379c-65b4-4b7d-df57-3f4cd8adf474"
      },
      "execution_count": 22,
      "outputs": [
        {
          "output_type": "stream",
          "name": "stdout",
          "text": [
            "Requirement already satisfied: tinydb in /usr/local/lib/python3.12/dist-packages (4.8.2)\n"
          ]
        }
      ]
    },
    {
      "cell_type": "markdown",
      "source": [
        "# Coleta de Dados com BeautifulSoup"
      ],
      "metadata": {
        "id": "zy0syLNNUchu"
      }
    },
    {
      "cell_type": "code",
      "execution_count": 23,
      "metadata": {
        "id": "REApsiEETqB9"
      },
      "outputs": [],
      "source": [
        "import httpx\n",
        "from bs4 import BeautifulSoup\n",
        "#from tinydb import TinyDB, query"
      ]
    },
    {
      "cell_type": "code",
      "source": [
        "def acessar_pagina(url):\n",
        "  pagina = httpx.get(url)\n",
        "  bs = BeautifulSoup(pagina.text, 'html.parser')\n",
        "  return bs\n",
        "\n",
        "def extrair_infos(url):\n",
        "  pagina = acessar_pagina(url)\n",
        "  noticias = pagina.find_all(\"article\")\n",
        "  for noticia in noticias:\n",
        "    titulo = noticia.find(\"h2\", attrs={\"class\": \"tileHeadline\"}).text.strip()\n",
        "    link = noticia.a[\"href\"]\n",
        "    print(titulo, link)\n",
        "    # Data\n",
        "    # Horario\n",
        "    # Link\n",
        "    # Número da Nota\n",
        "    #Paragráfos\n",
        "\n",
        "\n",
        "def montar_urls(url):\n",
        "  numeracao = 0\n",
        "  lista_urls = []\n",
        "  while numeracao <= 120:\n",
        "    url_final = url + str(numeracao)\n",
        "    lista_urls.append(url_final)\n",
        "    numeracao += 30\n",
        "  return lista_urls\n",
        "\n",
        "def main():\n",
        "  url = \"https://www.gov.br/mre/pt-br/canais_atendimento/imprensa/notas-a-imprensa/notas-a-imprensa?b_start:int=\"\n",
        "  #print(acessar_pagina(url))\n",
        "  lista_urls = montar_urls(url)\n",
        "  print(lista_urls)\n",
        "  for url in lista_urls:\n",
        "    extrair_infos(url)\n",
        "\n",
        "\n",
        "if __name__ == \"__main__\":\n",
        "  main()"
      ],
      "metadata": {
        "colab": {
          "base_uri": "https://localhost:8080/"
        },
        "id": "4sm76OKzV5D8",
        "outputId": "9bbb0836-08bc-4643-fc38-180616369cb4"
      },
      "execution_count": 51,
      "outputs": [
        {
          "output_type": "stream",
          "name": "stdout",
          "text": [
            "['https://www.gov.br/mre/pt-br/canais_atendimento/imprensa/notas-a-imprensa/notas-a-imprensa?b_start:int=0', 'https://www.gov.br/mre/pt-br/canais_atendimento/imprensa/notas-a-imprensa/notas-a-imprensa?b_start:int=30', 'https://www.gov.br/mre/pt-br/canais_atendimento/imprensa/notas-a-imprensa/notas-a-imprensa?b_start:int=60', 'https://www.gov.br/mre/pt-br/canais_atendimento/imprensa/notas-a-imprensa/notas-a-imprensa?b_start:int=90', 'https://www.gov.br/mre/pt-br/canais_atendimento/imprensa/notas-a-imprensa/notas-a-imprensa?b_start:int=120']\n",
            "Falecimento do ex-primeiro-ministro do Quênia, Raila Amolo Odinga https://www.gov.br/mre/pt-br/canais_atendimento/imprensa/notas-a-imprensa/falecimento-do-ex-primeiro-ministro-do-quenia-raila-amolo-odinga\n",
            "Premiação da FAO para iniciativas brasileiras em sustentabilidade e segurança alimentar https://www.gov.br/mre/pt-br/canais_atendimento/imprensa/notas-a-imprensa/premiacao-da-fao-para-iniciativas-brasileiras-em-sustentabilidade-e-seguranca-alimentar\n",
            "Recomendação de designação da embaixadora Sabrina Dallafior Matter  como Diretora-Geral da Organização para a Proibição de Armas Químicas (OPAQ) https://www.gov.br/mre/pt-br/canais_atendimento/imprensa/notas-a-imprensa/recomendacao-de-designacao-da-embaixadora-sabrina-dallafior-matter-como-diretora-geral-da-organizacao-para-a-proibicao-de-armas-quimicas-opaq\n",
            "Concessão de agrément à Embaixadora designada da Bulgária no Brasil https://www.gov.br/mre/pt-br/canais_atendimento/imprensa/notas-a-imprensa/concessao-de-agrement-a-embaixadora-designada-da-bulgaria-no-brasil\n",
            "Abertura da exposição fotográfica “80 Anos da ONU: Construindo o Nosso Futuro Juntos” https://www.gov.br/mre/pt-br/canais_atendimento/imprensa/notas-a-imprensa/abertura-da-exposicao-fotografica-201c80-anos-da-onu-construindo-o-nosso-futuro-juntos201d\n",
            "Lançamento do Compromisso de Belém pelos Combustíveis Sustentáveis – \"Belém 4x\" https://www.gov.br/mre/pt-br/canais_atendimento/imprensa/notas-a-imprensa/lancamento-do-compromisso-de-belem-pelos-combustiveis-sustentaveis-2013-belem-4x\n",
            "Concessão do New York Emmy Awards ao cineasta brasileiro Victor Dias Rodrigues https://www.gov.br/mre/pt-br/canais_atendimento/imprensa/notas-a-imprensa/concessao-do-new-york-emmy-awards-ao-cineasta-brasileiro-victor-dias-rodrigues\n",
            "Participação do Presidente Lula no Fórum Mundial de Alimentação e na reunião do Conselho de Campeões da Aliança Global contra a Fome e a Pobreza https://www.gov.br/mre/pt-br/canais_atendimento/imprensa/notas-a-imprensa/participacao-do-presidente-lula-no-forum-mundial-de-alimentacao-e-na-reuniao-do-conselho-de-campeoes-da-alianca-global-contra-a-fome-e-a-pobreza\n",
            "Chuvas no México https://www.gov.br/mre/pt-br/canais_atendimento/imprensa/notas-a-imprensa/chuvas-no-mexico\n",
            "Retomada das negociações do Acordo de Livre Comércio entre o MERCOSUL e o Canadá https://www.gov.br/mre/pt-br/canais_atendimento/imprensa/notas-a-imprensa/retomada-das-negociacoes-do-acordo-de-livre-comercio-entre-o-mercosul-e-o-canada\n",
            "Memorando de Entendimento entre o Instituto Guimarães Rosa (IGR) e o British Council https://www.gov.br/mre/pt-br/canais_atendimento/imprensa/notas-a-imprensa/memorando-de-entendimento-entre-o-instituto-guimaraes-rosa-igr-e-o-british-council-2\n",
            "Seleção de projeto brasileiro ao Prêmio UNESCO para o Uso de Tecnologias da Informação e da Comunicação na Educação https://www.gov.br/mre/pt-br/canais_atendimento/imprensa/notas-a-imprensa/selecao-de-projeto-brasileiro-ao-premio-unesco-para-o-uso-de-tecnologias-da-informacao-e-da-comunicacao-na-educacao\n",
            "Anúncio de acordo sobre primeira fase de plano para pôr fim ao conflito na Faixa de Gaza https://www.gov.br/mre/pt-br/canais_atendimento/imprensa/notas-a-imprensa/anuncio-de-acordo-sobre-primeira-fase-de-plano-para-por-fim-ao-conflito-na-faixa-de-gaza\n",
            "Abertura de mercado para sementes de beterraba do Brasil para a Nicarágua - Nota conjunta MRE/MAPA https://www.gov.br/mre/pt-br/canais_atendimento/imprensa/notas-a-imprensa/abertura-de-mercado-para-sementes-de-beterraba-do-brasil-para-a-nicaragua-nota-conjunta-mre-mapa\n",
            "Telefonema entre o Ministro Mauro Vieira e o Secretário de Estado Marco Rubio https://www.gov.br/mre/pt-br/canais_atendimento/imprensa/notas-a-imprensa/telefonema-entre-o-ministro-mauro-vieira-e-o-secretario-de-estado-marco-rubio\n",
            "Aprovação de resolução no Conselho de Direitos Humanos sobre combate ao racismo nos esportes https://www.gov.br/mre/pt-br/canais_atendimento/imprensa/notas-a-imprensa/aprovacao-de-resolucao-no-conselho-de-direitos-humanos-sobre-combate-ao-racismo-nos-esportes\n",
            "Retorno dos brasileiros que integravam a flotilha Global Sumud https://www.gov.br/mre/pt-br/canais_atendimento/imprensa/notas-a-imprensa/retorno-dos-brasileiros-que-integravam-a-flotilha-global-sumud\n",
            "Ataque contra comboio do presidente do Equador Daniel Noboa https://www.gov.br/mre/pt-br/canais_atendimento/imprensa/notas-a-imprensa/ataque-contra-comboio-do-presidente-do-equador-daniel-noboa\n",
            "Libertação dos brasileiros da flotilha Global Sumud https://www.gov.br/mre/pt-br/canais_atendimento/imprensa/notas-a-imprensa/libertacao-dos-brasileiros-da-flotilha-global-sumud\n",
            "Eleição do novo diretor-geral da UNESCO, Khaled El-Enany https://www.gov.br/mre/pt-br/canais_atendimento/imprensa/notas-a-imprensa/eleicao-do-novo-diretor-geral-da-unesco-khaled-el-enany\n",
            "Plano anunciado pelos Estados Unidos para a Faixa de Gaza https://www.gov.br/mre/pt-br/canais_atendimento/imprensa/notas-a-imprensa/plano-anunciado-pelos-estados-unidos-para-a-faixa-de-gaza\n",
            "Concessão de agrément ao Embaixador designado de Cuba no Brasil https://www.gov.br/mre/pt-br/canais_atendimento/imprensa/notas-a-imprensa/concessao-de-agrement-ao-embaixador-designado-de-cuba-no-brasil-1\n",
            "Ataques a sinagoga em Manchester, Reino Unido https://www.gov.br/mre/pt-br/canais_atendimento/imprensa/notas-a-imprensa/ataques-a-sinagoga-em-manchester-reino-unido\n",
            "Interceptação de embarcações da “Flotilha Global Sumud” por Israel e detenção arbitrária de cidadãos brasileiros https://www.gov.br/mre/pt-br/canais_atendimento/imprensa/notas-a-imprensa/interceptacao-de-embarcacoes-da-201cflotilha-global-sumud201d-por-israel-e-detencao-arbitraria-de-cidadaos-brasileiros\n",
            "Abertura de mercado para exportação de castanha-do-Brasil para a Costa Rica - Nota conjunta MRE/MAPA https://www.gov.br/mre/pt-br/canais_atendimento/imprensa/notas-a-imprensa/abertura-de-mercado-para-exportacao-de-castanha-do-brasil-para-a-costa-rica-nota-conjunta-mre-mapa\n",
            "Interceptação de embarcações da “Flotilha Global Sumud” por Israel https://www.gov.br/mre/pt-br/canais_atendimento/imprensa/notas-a-imprensa/interceptacao-de-embarcacoes-da-201cflotilha-global-sumud201d-por-israel\n",
            "Passagem do tufão Bualoi pelo Vietnã https://www.gov.br/mre/pt-br/canais_atendimento/imprensa/notas-a-imprensa/passagem-do-tufao-bualoi-pelo-vietna\n",
            "Concessão de agrément ao Embaixador designado do México no Brasil https://www.gov.br/mre/pt-br/canais_atendimento/imprensa/notas-a-imprensa/concessao-de-agrement-ao-embaixador-designado-do-mexico-no-brasil\n",
            "Concessão de agrément ao Embaixador designado das Filipinas no Brasil https://www.gov.br/mre/pt-br/canais_atendimento/imprensa/notas-a-imprensa/concessao-de-agrement-ao-embaixador-designado-das-filipinas-no-brasil\n",
            "Reeleição do Brasil para o Conselho da Organização da Aviação Civil Internacional (OACI) https://www.gov.br/mre/pt-br/canais_atendimento/imprensa/notas-a-imprensa/reeleicao-do-brasil-para-o-conselho-da-organizacao-da-aviacao-civil-internacional-oaci\n",
            "13º Encontro da Comissão Ministerial Trilateral do IBAS - Comunicado Conjunto https://www.gov.br/mre/pt-br/canais_atendimento/imprensa/notas-a-imprensa/13o-encontro-da-comissao-ministerial-trilateral-do-ibas-comunicado-conjunto\n",
            "Encontro dos Ministros das Relações Exteriores do BRICS à margem da 80ª Sessão da Assembleia Geral das Nações Unidas - Nota Conjunta BRICS https://www.gov.br/mre/pt-br/canais_atendimento/imprensa/notas-a-imprensa/encontro-dos-ministros-das-relacoes-exteriores-do-brics-a-margem-da-80a-sessao-da-assembleia-geral-das-nacoes-unidas-nota-conjunta-brics\n",
            "Passagem do supertufão Ragasa pela Ásia https://www.gov.br/mre/pt-br/canais_atendimento/imprensa/notas-a-imprensa/passagem-do-supertufao-ragasa-pela-asia\n",
            "Abertura de mercado para produtos cárneos do Brasil para o Azerbaijão - Nota Conjunta MRE/MAPA https://www.gov.br/mre/pt-br/canais_atendimento/imprensa/notas-a-imprensa/abertura-de-mercado-para-produtos-carneos-do-brasil-para-o-azerbaijao-nota-conjunta-mre-mapa\n",
            "Reunião Ministerial em apoio à UNRWA https://www.gov.br/mre/pt-br/canais_atendimento/imprensa/notas-a-imprensa/reuniao-ministerial-em-apoio-a-unrwa\n",
            "Concessão de agrément ao Embaixador designado do Brasil no Nepal https://www.gov.br/mre/pt-br/canais_atendimento/imprensa/notas-a-imprensa/concessao-de-agrement-ao-embaixador-designado-do-brasil-no-nepal\n",
            "Falecimento de Yu Kongjian https://www.gov.br/mre/pt-br/canais_atendimento/imprensa/notas-a-imprensa/falecimento-de-yu-kongjian\n",
            "Ataque de drones à Flotilha Global Sumud https://www.gov.br/mre/pt-br/canais_atendimento/imprensa/notas-a-imprensa/ataque-de-drones-a-flotilha-global-sumud\n",
            "Reconhecimento do Estado da Palestina https://www.gov.br/mre/pt-br/canais_atendimento/imprensa/notas-a-imprensa/reconhecimento-do-estado-da-palestina\n",
            "Falecimento do Embaixador Nilo Barroso Neto https://www.gov.br/mre/pt-br/canais_atendimento/imprensa/notas-a-imprensa/falecimento-do-embaixador-nilo-barroso-neto\n",
            "Pagamento de contribuições à Organização das Nações Unidas (ONU) – Nota conjunta MRE/MPO https://www.gov.br/mre/pt-br/canais_atendimento/imprensa/notas-a-imprensa/pagamento-de-contribuicoes-a-organizacao-das-nacoes-unidas-onu-2013-nota-conjunta-mpo-mre\n",
            "Participação do Brasil na 80ª Assembleia Geral das Nações Unidas https://www.gov.br/mre/pt-br/canais_atendimento/imprensa/notas-a-imprensa/participacao-do-brasil-na-80a-assembleia-geral-das-nacoes-unidas\n",
            "Carta conjunta de líderes mundiais em prol da transição energética https://www.gov.br/mre/pt-br/canais_atendimento/imprensa/notas-a-imprensa/carta-conjunta-de-lideres-mundiais-em-prol-da-transicao-energetica\n",
            "Imposição indevida da Lei Magnitsky https://www.gov.br/mre/pt-br/canais_atendimento/imprensa/notas-a-imprensa/imposicao-indevida-da-lei-magnitsky\n",
            "Discurso do Ministro Mauro Vieira por ocasião da Reunião de Chanceleres Intra-CELAC - Nova York, 22 de setembro de 2025 https://www.gov.br/mre/pt-br/canais_atendimento/imprensa/notas-a-imprensa/discurso-do-ministro-mauro-vieira-por-ocasiao-da-reuniao-de-chanceleres-intra-celac-nova-york-22-de-setembro-de-2025\n",
            "Reconhecimento do Estado da Palestina pela Austrália, pelo Canadá, pelo Reino Unido e por Portugal https://www.gov.br/mre/pt-br/canais_atendimento/imprensa/notas-a-imprensa/reconhecimento-do-estado-da-palestina-pela-australia-pelo-canada-pelo-reino-unido-e-por-portugal\n",
            "Líderes globais unidos em defesa do direito internacional humanitário para preservar a humanidade em tempos de guerra https://www.gov.br/mre/pt-br/canais_atendimento/imprensa/notas-a-imprensa/lideres-globais-unidos-em-defesa-do-direito-internacional-humanitario-para-preservar-a-humanidade-em-tempos-de-guerra\n",
            "Eleição do Brasil para conselhos da União Postal Universal (UPU) - Nota Conjunta MRE/MCom https://www.gov.br/mre/pt-br/canais_atendimento/imprensa/notas-a-imprensa/eleicao-do-brasil-para-conselhos-da-uniao-postal-universal-upu-nota-conjunta-mre-mcom\n",
            "Flotilha Global Sumud https://www.gov.br/mre/pt-br/canais_atendimento/imprensa/notas-a-imprensa/flotilha-global-sumud\n",
            "Concessão de agrément ao Embaixador designado do Brasil no Iraque https://www.gov.br/mre/pt-br/canais_atendimento/imprensa/notas-a-imprensa/concessao-de-agrement-ao-embaixador-designado-do-brasil-no-iraque\n",
            "Visita ao Brasil da Alta Representante da União Europeia para os Negócios Estrangeiros e a Política de Segurança, Kaja Kallas https://www.gov.br/mre/pt-br/canais_atendimento/imprensa/notas-a-imprensa/visita-ao-brasil-da-alta-representante-da-uniao-europeia-para-os-negocios-estrangeiros-e-a-politica-de-seguranca-kaja-kallas\n",
            "Abertura de mercado para bovinos e bubalinos vivos do Brasil para o Togo – Nota Conjunta MRE/MAPA https://www.gov.br/mre/pt-br/canais_atendimento/imprensa/notas-a-imprensa/abertura-de-mercado-para-bovinos-e-bubalinos-vivos-do-brasil-para-o-togo-2013-nota-conjunta-mre-mapa\n",
            "Síntese dos copresidentes da Reunião Ministerial sobre Combustíveis Sustentáveis — Osaka, 15 de setembro de 2025 https://www.gov.br/mre/pt-br/canais_atendimento/imprensa/notas-a-imprensa/sintese-dos-copresidentes-da-reuniao-ministerial-sobre-combustiveis-sustentaveis-2014-osaka-15-de-setembro-de-2025\n",
            "2ª Cúpula Global da Coalizão para a Alimentação Escolar — Fortaleza, 18 e 19 de setembro de 2025 https://www.gov.br/mre/pt-br/canais_atendimento/imprensa/notas-a-imprensa/2a-cupula-global-da-coalizao-para-a-alimentacao-escolar\n",
            "Ofensiva terrestre israelense contra a Cidade de Gaza, Estado da Palestina https://www.gov.br/mre/pt-br/canais_atendimento/imprensa/notas-a-imprensa/ofensiva-terrestre-israelense-contra-a-cidade-de-gaza-estado-da-palestina\n",
            "Negociações externas do Mercosul — Comunicado Conjunto dos chanceleres https://www.gov.br/mre/pt-br/canais_atendimento/imprensa/notas-a-imprensa/comunicado-conjunto-dos-chanceleres-dos-estados-partes-do-mercosul-1\n",
            "Assinatura do Acordo de Livre Comércio entre o MERCOSUL e a EFTA — Nota Conjunta MRE/MDIC/MAPA https://www.gov.br/mre/pt-br/canais_atendimento/imprensa/notas-a-imprensa/assinatura-acordo-mercosul2013efta-2014-nota-conjunta-mre-mdic-mapa\n",
            "Acordo de Livre Comércio MERCOSUL-EFTA — Declaração Conjunta https://www.gov.br/mre/pt-br/canais_atendimento/imprensa/notas-a-imprensa/acordo-de-livre-comercio-mercosul-efta\n",
            "Comunicado Conjunto sobre a Flotilha Global Sumud https://www.gov.br/mre/pt-br/canais_atendimento/imprensa/notas-a-imprensa/comunicado-conjunto-sobre-a-flotilha-global-sumud\n",
            "Entrada em vigor do Acordo sobre Subsídios à Pesca da OMC — Nota Conjunta MRE/MPA https://www.gov.br/mre/pt-br/canais_atendimento/imprensa/notas-a-imprensa/entrada-em-vigor-do-acordo-sobre-subsidios-a-pesca-da-omc-2014-nota-conjunta-mre-mpa\n",
            "Identificação de Tenório Júnior https://www.gov.br/mre/pt-br/canais_atendimento/imprensa/notas-a-imprensa/identificacao-de-tenorio-junior\n",
            "Reunião de Chanceleres do MERCOSUL — Rio de Janeiro, 16 de setembro de 2025 https://www.gov.br/mre/pt-br/canais_atendimento/imprensa/notas-a-imprensa/reuniao-de-chanceleres-do-mercosul-2013-rio-de-janeiro-16-de-setembro-de-2025\n",
            "Restituição do fóssil “Mesoproctus rowlandi” ao Brasil https://www.gov.br/mre/pt-br/canais_atendimento/imprensa/notas-a-imprensa/restituicao-do-fossil-201cmesoproctus-rowlandi201d-ao-brasil\n",
            "Abertura de mercado para produto agropecuário do Brasil em Singapura — Nota Conjunta MRE/MAPA https://www.gov.br/mre/pt-br/canais_atendimento/imprensa/notas-a-imprensa/abertura-de-mercado-para-produto-agropecuario-do-brasil-em-singapura-2014-nota-conjunta-mre-mapa\n",
            "Ataques contra a capital da Ucrânia https://www.gov.br/mre/pt-br/canais_atendimento/imprensa/notas-a-imprensa/ataques-contra-a-capital-da-ucrania\n",
            "Ataque israelense a Doha, Catar https://www.gov.br/mre/pt-br/canais_atendimento/imprensa/notas-a-imprensa/ataque-israelense-a-doha-catar\n",
            "Em defesa da democracia brasileira https://www.gov.br/mre/pt-br/canais_atendimento/imprensa/notas-a-imprensa/em-defesa-da-democracia-brasileira\n",
            "Distúrbios sociais no Nepal https://www.gov.br/mre/pt-br/canais_atendimento/imprensa/notas-a-imprensa/disturbios-sociais-no-nepal\n",
            "Abertura de seis novos mercados para o Brasil em Burkina Faso – Nota Conjunta MRE/MAPA https://www.gov.br/mre/pt-br/canais_atendimento/imprensa/notas-a-imprensa/abertura-de-seis-novos-mercados-para-o-brasil-em-burkina-faso-2013-nota-conjunta-mre-mapa\n",
            "Abertura de mercado para produtos agropecuários do Brasil na Indonésia – Nota Conjunta MRE/MAPA https://www.gov.br/mre/pt-br/canais_atendimento/imprensa/notas-a-imprensa/abertura-de-mercado-para-produtos-agropecuarios-do-brasil-na-indonesia-2013-nota-conjunta-mre-mapa\n",
            "Concessão de agrément ao Embaixador designado da Malásia no Brasil https://www.gov.br/mre/pt-br/canais_atendimento/imprensa/notas-a-imprensa/concessao-de-agrement-ao-embaixador-designado-da-malasia-no-brasil\n",
            "Ataque a tiros em Jerusalém Oriental https://www.gov.br/mre/pt-br/canais_atendimento/imprensa/notas-a-imprensa/ataque-a-tiros-em-jerusalem-oriental\n",
            "Concessão de agrément ao Embaixador designado do Brasil na Grécia https://www.gov.br/mre/pt-br/canais_atendimento/imprensa/notas-a-imprensa/concessao-de-agrement-ao-embaixador-designado-do-brasil-na-grecia\n",
            "Abertura de mercado para o Brasil no Paraguai - Nota Conjunta MRE/MAPA https://www.gov.br/mre/pt-br/canais_atendimento/imprensa/notas-a-imprensa/abertura-de-mercado-para-o-brasil-no-paraguai-nota-conjunta-mre-mapa\n",
            "Abertura de três novos mercados para o Brasil na Argentina - Nota Conjunta MRE/MAPA https://www.gov.br/mre/pt-br/canais_atendimento/imprensa/notas-a-imprensa/abertura-de-tres-novos-mercados-para-o-brasil-na-argentina-nota-conjunta-mre-mapa\n",
            "Emissão de vistos eletrônicos para a COP30 https://www.gov.br/mre/pt-br/canais_atendimento/imprensa/notas-a-imprensa/emissao-de-vistos-eletronicos-para-a-cop30\n",
            "Acidente de barco na Nigéria https://www.gov.br/mre/pt-br/canais_atendimento/imprensa/notas-a-imprensa/acidente-de-barco-na-nigeria\n",
            "Deslizamento de terra no Sudão https://www.gov.br/mre/pt-br/canais_atendimento/imprensa/notas-a-imprensa/deslizamento-de-terra-no-sudao\n",
            "Descarrilhamento do Elevador da Glória em Lisboa https://www.gov.br/mre/pt-br/canais_atendimento/imprensa/notas-a-imprensa/descarrilhamento-do-elevador-da-gloria-em-lisboa\n",
            "Abertura de mercado para produtos agropecuários do Brasil no Japão - Nota Conjunta MRE/MAPA https://www.gov.br/mre/pt-br/canais_atendimento/imprensa/notas-a-imprensa/abertura-de-mercado-para-produtos-agropecuarios-do-brasil-no-japao-nota-conjunta-mre-mapa\n",
            "Comunicado Conjunto por ocasião da Visita ao México do Vice-Presidente da República, Geraldo Alckmin https://www.gov.br/mre/pt-br/canais_atendimento/imprensa/notas-a-imprensa/comunicado-conjunto-por-ocasiao-da-visita-ao-mexico-do-vice-presidente-da-republica-geraldo-alckmin\n",
            "Renovação do mandato da Força Interina das Nações Unidas no Líbano https://www.gov.br/mre/pt-br/canais_atendimento/imprensa/notas-a-imprensa/renovacao-do-mandato-da-forca-interina-das-nacoes-unidas-no-libano\n",
            "Abertura de mercado para produtos agropecuários do Brasil na Costa Rica - Nota Conjunta MRE/MAPA https://www.gov.br/mre/pt-br/canais_atendimento/imprensa/notas-a-imprensa/abertura-de-mercado-para-produtos-agropecuarios-do-brasil-na-costa-rica-nota-conjunta-mre-mapa\n",
            "Abertura de mercado para farinhas de origem animal do Brasil para o México - Nota Conjunta MRE/MAPA https://www.gov.br/mre/pt-br/canais_atendimento/imprensa/notas-a-imprensa/abertura-de-mercado-para-farinhas-de-origem-animal-do-brasil-para-o-mexico-nota-conjunta-mre-mapa\n",
            "Terremoto no Afeganistão https://www.gov.br/mre/pt-br/canais_atendimento/imprensa/notas-a-imprensa/terremoto-no-afeganistao-1\n",
            "Abertura de seis novos mercados para o Brasil - Nota Conjunta MRE/MAPA https://www.gov.br/mre/pt-br/canais_atendimento/imprensa/notas-a-imprensa/abertura-de-cinco-novos-mercados-para-o-brasil-nota-conjunta-mre-mapa\n",
            "Doação de obra do Estúdio Campana https://www.gov.br/mre/pt-br/canais_atendimento/imprensa/notas-a-imprensa/doacao-de-obra-do-estudio-campana\n",
            "Atos adotados por ocasião da visita oficial do Vice-Presidente da República Federativa do Brasil, Geraldo Alckmin, ao México - 27 e 28 de agosto https://www.gov.br/mre/pt-br/canais_atendimento/imprensa/notas-a-imprensa/atos-adotados-por-ocasiao-da-visita-oficial-do-vice-presidente-da-republica-federativa-do-brasil-excelentissimo-senhor-geraldo-alckmin\n",
            "Atos adotados por ocasião da visita oficial do Presidente da República do Panamá, José Raúl Mulino - Brasília, 28 de agosto https://www.gov.br/mre/pt-br/canais_atendimento/imprensa/notas-a-imprensa/atos-adotados-por-ocasiao-da-visita-oficial-do-presidente-da-republica-do-panama-jose-raul-mulino-brasilia-28-de-agosto-de-2025\n",
            "Comunicado conjunto por ocasião da visita oficial ao Brasil  do Presidente do Panamá, José Raúl Mulino — Brasília, 28 de agosto https://www.gov.br/mre/pt-br/canais_atendimento/imprensa/notas-a-imprensa/comunicado-conjunto-por-ocasiao-da-visita-oficial-ao-brasil-do-presidente-do-panama-jose-raul-mulino-2014-brasilia-28-de-agosto\n",
            "Visita oficial do Presidente da República do Panamá, José Raúl Mulino  – Brasília, 28 de agosto https://www.gov.br/mre/pt-br/canais_atendimento/imprensa/notas-a-imprensa/visita-oficial-do-presidente-da-republica-do-panama-jose-raul-mulino-2013-brasilia-28-de-agosto-de-2025\n",
            "Concessão de agrément ao Embaixador designado do Brasil na Polônia https://www.gov.br/mre/pt-br/canais_atendimento/imprensa/notas-a-imprensa/concessao-de-agrement-ao-embaixador-designado-do-brasil-na-polonia\n",
            "Visita ao México do Vice-Presidente da República e Ministro do Desenvolvimento, Indústria, Comércio e Serviços, Geraldo Alckmin – 27 e 28 de agosto https://www.gov.br/mre/pt-br/canais_atendimento/imprensa/notas-a-imprensa/visita-ao-mexico-do-vice-presidente-da-republica-e-ministro-do-desenvolvimento-industria-comercio-e-servicos-geraldo-alckmin-2013-27-e-28-de-agosto\n",
            "Declaração Conjunta do Presidente da República Federativa do Brasil e do Presidente da República Federal da Nigéria https://www.gov.br/mre/pt-br/canais_atendimento/imprensa/notas-a-imprensa/declaracao-conjunta-do-presidente-da-republica-federativa-do-brasil-e-do-presidente-da-republica-federal-da-nigeria\n",
            "Ataques israelenses contra hospital na Faixa de Gaza, Estado da Palestina https://www.gov.br/mre/pt-br/canais_atendimento/imprensa/notas-a-imprensa/ataques-israelenses-contra-hospital-na-faixa-de-gaza-estado-da-palestina\n",
            "Abertura de mercado para soro fetal bovino do Brasil para a União Econômica Euroasiática - Nota Conjunta MRE/MAPA https://www.gov.br/mre/pt-br/canais_atendimento/imprensa/notas-a-imprensa/abertura-de-mercado-para-soro-fetal-bovino-do-brasil-para-a-uniao-economica-euroasiatica-nota-conjunta-mre-mapa\n",
            "Abertura de mercado para aves vivas do Brasil para os Emirados Árabes Unidos - Nota Conjunta MRE/MAPA https://www.gov.br/mre/pt-br/canais_atendimento/imprensa/notas-a-imprensa/abertura-de-mercado-para-aves-vivas-do-brasil-para-os-emirados-arabes-unidos-nota-conjunta-mre-mapa\n",
            "Comunicado Conjunto Brasil-Canadá sobre Negociações do Acordo de Livre Comércio Mercosul-Canadá e Compromisso com o Sistema Multilateral de Comércio https://www.gov.br/mre/pt-br/canais_atendimento/imprensa/notas-a-imprensa/comunicado-conjunto-brasil-canada-acordo-de-livre-comercio-mercosul-canada-e-reafirmacao-do-compromisso-com-o-sistema-multilateral-de-comercio\n",
            "Atos adotados por ocasião da visita oficial do presidente da República Federal da Nigéria, Bola Tinubu  - Brasília, 25 de agosto de 2025 https://www.gov.br/mre/pt-br/canais_atendimento/imprensa/notas-a-imprensa/atos-adotados-por-ocasiao-da-visita-oficial-do-presidente-da-republica-federal-da-nigeria-bola-tinubu-brasilia-25-de-agosto-de-2025\n",
            "Visita do Ministro do Comércio Internacional do Canadá, Maninder Sidhu – Brasília, 25 de agosto https://www.gov.br/mre/pt-br/canais_atendimento/imprensa/notas-a-imprensa/visita-do-ministro-do-comercio-internacional-do-canada-maninder-sidhu-brasilia-2013-25-de-agosto\n",
            "Visita de Estado do Presidente da República Federal da Nigéria, Bola Tinubu — Brasília, 25 e 26 de agosto https://www.gov.br/mre/pt-br/canais_atendimento/imprensa/notas-a-imprensa/visita-de-estado-do-presidente-da-republica-federal-da-nigeria-bola-tinubu-2014-brasilia-25-e-26-de-agosto\n",
            "Comunicado Conjunto sobre o Fundo Florestas Tropicais para Sempre (TFFF) https://www.gov.br/mre/pt-br/canais_atendimento/imprensa/notas-a-imprensa/comunicado-conjunto-sobre-o-fundo-florestas-tropicais-para-sempre-tfff\n",
            "Declaração de Bogotá — V Reunião de Presidentes dos Estados Partes do Tratado de Cooperação Amazônica https://www.gov.br/mre/pt-br/canais_atendimento/imprensa/notas-a-imprensa/declaracao-de-bogota\n",
            "Manifestações sobre a situação de fome na Faixa de Gaza, Estado da Palestina https://www.gov.br/mre/pt-br/canais_atendimento/imprensa/notas-a-imprensa/manifestacoes-sobre-a-situacao-de-fome-na-faixa-de-gaza-estado-da-palestina\n",
            "Ataques em Cali e Antioquia https://www.gov.br/mre/pt-br/canais_atendimento/imprensa/notas-a-imprensa/ataques-em-cali-e-antioquia\n",
            "Abertura de mercado para carne, produtos cárneos e miúdos bovinos do Brasil para São Vicente e Granadinas - Nota Conjunta - MRE/MAPA https://www.gov.br/mre/pt-br/canais_atendimento/imprensa/notas-a-imprensa/abertura-de-mercado-para-carne-produtos-carneos-e-miudos-bovinos-do-brasil-para-sao-vicente-e-granadinas-nota-conhjunta-mre-mapa\n",
            "Convenção para a Proibição das Armas Biológicas e Toxínicas (Genebra, 11-22/8/2025) https://www.gov.br/mre/pt-br/canais_atendimento/imprensa/notas-a-imprensa/convencao-para-a-proibicao-das-armas-biologicas-e-toxinicas-genebra-11-22-8-2025\n",
            "Participação do Presidente Lula na V Cúpula de Presidentes dos Estados Partes do Tratado de Cooperação Amazônica – Bogotá, 22 de agosto de 2025 https://www.gov.br/mre/pt-br/canais_atendimento/imprensa/notas-a-imprensa/participacao-do-presidente-lula-na-v-cupula-de-presidentes-dos-estados-partes-do-tratado-de-cooperacao-amazonica-2013-bogota-22-de-agosto-de-2025\n",
            "Declaração Conjunta dos Presidentes da República Federativa do Brasil e da República do Equador https://www.gov.br/mre/pt-br/canais_atendimento/imprensa/notas-a-imprensa/declaracao-conjunta-dos-presidentes-da-republica-federativa-do-brasil-e-da-republica-do-equador\n",
            "Atos adotados por ocasião da visita oficial do Senhor Daniel Noboa, Presidente da República do Equador - Brasília, 18 de agosto de 2025 https://www.gov.br/mre/pt-br/canais_atendimento/imprensa/notas-a-imprensa/atos-adotados-por-ocasiao-da-visita-oficial-do-senhor-daniel-noboa-presidente-da-republica-do-equador-brasilia-em-18-de-agosto-de-2025\n",
            "Abertura de mercado para carne bovina com osso, miúdos bovinos, produtos cárneos e preparados de carne para a Indonésia - Nota Conjunta MRE/MAPA https://www.gov.br/mre/pt-br/canais_atendimento/imprensa/notas-a-imprensa/abertura-de-mercado-para-carne-bovina-com-osso-miudos-bovinos-produtos-carneos-e-preparados-de-carne-do-brasil-para-a-indonesia\n",
            "Abertura de mercado para ovinos vivos do Brasil para a Argélia - Nota Conjunta MRE/MAPA https://www.gov.br/mre/pt-br/canais_atendimento/imprensa/notas-a-imprensa/abertura-de-mercado-para-ovinos-vivos-do-brasil-para-a-argelia-nota-conjunta-mre-mapa\n",
            "Comentários Escritos do Brasil ao USTR no âmbito da Seção 301 https://www.gov.br/mre/pt-br/canais_atendimento/imprensa/notas-a-imprensa/comentarios-escritos-do-brasil-ao-ustr-no-ambito-da-secao-301\n",
            "Incêndios na Espanha e Portugal https://www.gov.br/mre/pt-br/canais_atendimento/imprensa/notas-a-imprensa/incendios-na-espanha-e-portugal\n",
            "Enchentes no Noroeste do Paquistão https://www.gov.br/mre/pt-br/canais_atendimento/imprensa/notas-a-imprensa/enchentes-no-noroeste-do-paquistao\n",
            "Visita oficial do Presidente do Equador, Daniel Noboa, a Brasília – 18 de agosto https://www.gov.br/mre/pt-br/canais_atendimento/imprensa/notas-a-imprensa/visita-oficial-do-presidente-do-equador-daniel-noboa-a-brasilia-2013-18-de-agosto\n",
            "Suspensão da Sessão do Comitê Intergovernamental sobre Poluição de Plásticos https://www.gov.br/mre/pt-br/canais_atendimento/imprensa/notas-a-imprensa/suspensao-da-sessao-do-comite-intergovernamental-sobre-poluicao-de-plasticos\n",
            "Concessão de agrément ao Embaixador designado de Gana no Brasil https://www.gov.br/mre/pt-br/canais_atendimento/imprensa/notas-a-imprensa/concessao-de-agrement-ao-embaixador-designado-de-gana-no-brasil\n",
            "Plano Israelense de novo assentamento na Cisjordânia, Estado da Palestina https://www.gov.br/mre/pt-br/canais_atendimento/imprensa/notas-a-imprensa/plano-israelense-de-novo-assentamento-na-cisjordania-estado-da-palestina\n",
            "Abertura de mercado para carne bovina com osso e miúdos do Brasil para as Filipinas - Nota Conjunta MRE/MAPA https://www.gov.br/mre/pt-br/canais_atendimento/imprensa/notas-a-imprensa/abertura-de-mercado-para-carne-bovina-com-osso-e-miudos-do-brasil-para-as-filipinas-nota-conjunta-mre-mapa\n",
            "Passagem de tempestade tropical por Cabo Verde https://www.gov.br/mre/pt-br/canais_atendimento/imprensa/notas-a-imprensa/passagem-de-tempestade-tropical-por-cabo-verde\n",
            "Assassinato de jornalistas na Faixa de Gaza, Estado da Palestina https://www.gov.br/mre/pt-br/canais_atendimento/imprensa/notas-a-imprensa/assassinato-de-jornalistas-na-faixa-de-gaza-estado-da-palestina\n",
            "Falecimento do senador colombiano Miguel Uribe Turbay https://www.gov.br/mre/pt-br/canais_atendimento/imprensa/notas-a-imprensa/falecimento-do-senador-colombiano-miguel-uribe-turbay\n",
            "Processo de Paz Armênia-Azerbaijão https://www.gov.br/mre/pt-br/canais_atendimento/imprensa/notas-a-imprensa/processo-de-paz-armenia-azerbaijao-1\n",
            "Visita da Ministra das Relações Exteriores da República Democrática do Congo, Thérèse Kayikwamba Wagner – Brasília, 11 de agosto https://www.gov.br/mre/pt-br/canais_atendimento/imprensa/notas-a-imprensa/visita-da-ministra-das-relacoes-exteriores-da-republica-democratica-do-congo-therese-kayikwamba-wagnes-2013-brasilia-11-de-agosto\n",
            "Escalada dos ataques militares israelenses na Faixa de Gaza, Estado da Palestina https://www.gov.br/mre/pt-br/canais_atendimento/imprensa/notas-a-imprensa/escalada-dos-ataques-militares-israelenses-na-faixa-de-gaza-estado-da-palestina\n",
            "Abertura de mercado para exportação de mudas de cana-de-açúcar do Brasil para a Guatemala - Nota Conjunta MRE/MAPA https://www.gov.br/mre/pt-br/canais_atendimento/imprensa/notas-a-imprensa/abertura-de-mercado-para-exportacao-de-mudas-de-cana-de-acucar-do-brasil-para-a-guatemala-nota-conjunta-mre-mapa\n",
            "Abertura de mercado para exportação de gergelim do Brasil para a África do Sul - Nota Conjunta MRE/MAPA https://www.gov.br/mre/pt-br/canais_atendimento/imprensa/notas-a-imprensa/abertura-de-mercado-para-exportacao-de-gergelim-do-brasil-para-a-africa-do-sul-nota-conjunta-mre-mapa\n",
            "Concessão de agrément ao Embaixador designado do Brasil na Finlândia https://www.gov.br/mre/pt-br/canais_atendimento/imprensa/notas-a-imprensa/concessao-de-agrement-ao-embaixador-designado-do-brasil-na-finlandia\n",
            "Acidente aéreo em Gana https://www.gov.br/mre/pt-br/canais_atendimento/imprensa/notas-a-imprensa/acidente-aereo-em-gana\n",
            "Participação do Ministro de Estado das Relações Exteriores no 50º aniversário do Curso de Direito Internacional da Comissão Jurídica Interamericana https://www.gov.br/mre/pt-br/canais_atendimento/imprensa/notas-a-imprensa/participacao-do-secretario-geral-da-oea-nas-comemoracoes-do-50o-aniversario-do-curso-de-direito-internacional-da-comissao-juridica-interamericana\n",
            "Pedido de consultas aos Estados Unidos na OMC relativo a tarifas impostas a produtos brasileiros — Nota conjunta MRE/MDIC https://www.gov.br/mre/pt-br/canais_atendimento/imprensa/notas-a-imprensa/pedido-de-consultas-aos-estados-unidos-na-omc-relativo-a-tarifas-impostas-a-produtos-brasileiros\n",
            "Concessão de agrément ao Embaixador designado do Líbano no Brasil https://www.gov.br/mre/pt-br/canais_atendimento/imprensa/notas-a-imprensa/concessao-de-agrement-ao-embaixador-designado-do-libano-no-brasil\n",
            "Declarações de Reino Unido, Malta, Canadá e Portugal sobre a possibilidade de reconhecimento do Estado da Palestina https://www.gov.br/mre/pt-br/canais_atendimento/imprensa/notas-a-imprensa/declaracoes-de-reino-unido-malta-canada-e-portugal-sobre-a-possibilidade-de-reconhecimento-do-estado-da-palestina\n",
            "Dia Mundial contra o Tráfico de Pessoas https://www.gov.br/mre/pt-br/canais_atendimento/imprensa/notas-a-imprensa/dia-mundial-contra-o-trafico-de-pessoas\n",
            "Concessão de agréments ao Embaixador designado do Brasil na Tailândia e no Laos https://www.gov.br/mre/pt-br/canais_atendimento/imprensa/notas-a-imprensa/concessao-de-agrements-ao-embaixador-designado-do-brasil-na-tailandia-e-no-laos\n",
            "Início do processo de acessão do Brasil à Agência Internacional de Energia como membro pleno - Nota Conjunta MRE/MME https://www.gov.br/mre/pt-br/canais_atendimento/imprensa/notas-a-imprensa/inicio-do-processo-de-acessao-do-brasil-a-agencia-internacional-de-energia-como-membro-pleno-nota-conjunta-mre-mme-1\n",
            "Chuvas e enchentes no norte, nordeste e leste da China https://www.gov.br/mre/pt-br/canais_atendimento/imprensa/notas-a-imprensa/chuvas-e-enchentes-no-norte-nordeste-e-leste-da-china\n",
            "Participação do Ministro Mauro Vieira na Conferência para a Solução Pacífica da Questão da Palestina e a Implementação da Solução de Dois Estados https://www.gov.br/mre/pt-br/canais_atendimento/imprensa/notas-a-imprensa/participacao-do-ministro-mauro-vieira-na-conferencia-para-a-solucao-pacifica-da-questao-da-palestina-e-a-implementacao-da-solucao-de-dois-estados-1\n",
            "Cessar-fogo entre Camboja e Tailândia https://www.gov.br/mre/pt-br/canais_atendimento/imprensa/notas-a-imprensa/cessar-fogo-entre-camboja-e-tailandia\n",
            "Assinatura de Termo de Cooperação Cultural entre o Instituto Guimarães Rosa e a Associação Pró-Cultura e Promoção das Artes (APPA) https://www.gov.br/mre/pt-br/canais_atendimento/imprensa/notas-a-imprensa/assinatura-de-termo-de-cooperacao-cultural-entre-o-instituto-guimaraes-rosa-e-a-associacao-pro-cultura-e-promocao-das-artes-appa\n",
            "Anúncio do reconhecimento pela França do Estado da Palestina https://www.gov.br/mre/pt-br/canais_atendimento/imprensa/notas-a-imprensa/anuncio-do-reconhecimento-pela-franca-do-estado-da-palestina\n",
            "Crise na fronteira entre o Camboja e a Tailândia https://www.gov.br/mre/pt-br/canais_atendimento/imprensa/notas-a-imprensa/crise-na-fronteira-entre-o-camboja-e-a-tailandia\n",
            "Acidente aéreo na Rússia https://www.gov.br/mre/pt-br/canais_atendimento/imprensa/notas-a-imprensa/acidente-aereo-na-russia-1\n",
            "Concessão de agrément ao Embaixador designado do Brasil na Síria https://www.gov.br/mre/pt-br/canais_atendimento/imprensa/notas-a-imprensa/concessao-de-agrement-ao-embaixador-designado-do-brasil-na-siria\n",
            "Concessão de agréments ao Embaixador designado do Brasil na República do Congo e na República Centro-Africana https://www.gov.br/mre/pt-br/canais_atendimento/imprensa/notas-a-imprensa/concessao-de-agrement-ao-embaixador-designado-do-brasil-na-republica-centro-africana\n",
            "Abertura de mercado para exportação de ossos processados do Brasil para o México - Nota Conjunta MRE/MAPA https://www.gov.br/mre/pt-br/canais_atendimento/imprensa/notas-a-imprensa/abertura-de-mercado-para-exportacao-de-ossos-processados-do-brasil-para-o-mexico-nota-conjunta-mre-mapa\n",
            "Violações Sistemáticas de Direitos Humanos e Humanitário no Estado da Palestina https://www.gov.br/mre/pt-br/canais_atendimento/imprensa/notas-a-imprensa/violacoes-sistematicas-de-direitos-humanos-e-humanitario-no-estado-da-palestina\n",
            "Participação do Brasil na Reunião do Conselho Geral da OMC https://www.gov.br/mre/pt-br/canais_atendimento/imprensa/notas-a-imprensa/participacao-do-brasil-na-reuniao-do-conselho-geral-da-omc\n",
            "Abertura de mercado para couros e peles em cru do Brasil para a Coreia do Sul - Nota Conjunta MRE/MAPA https://www.gov.br/mre/pt-br/canais_atendimento/imprensa/notas-a-imprensa/abertura-de-mercado-para-couros-e-peles-em-cru-do-brasil-para-a-coreia-do-sul-nota-conjunta-mre-mapa\n"
          ]
        }
      ]
    },
    {
      "cell_type": "markdown",
      "source": [
        "# Coleta de Dados com Selenium"
      ],
      "metadata": {
        "id": "PIhWMuFPUo5P"
      }
    },
    {
      "cell_type": "code",
      "source": [
        "!pip install selenium\n",
        "!pip install webdriver-manager"
      ],
      "metadata": {
        "colab": {
          "base_uri": "https://localhost:8080/",
          "height": 703
        },
        "id": "mff8_lzNVGo8",
        "outputId": "5e2a7b0f-ff69-44b1-c5a5-914e5df3a195"
      },
      "execution_count": 25,
      "outputs": [
        {
          "output_type": "stream",
          "name": "stdout",
          "text": [
            "Requirement already satisfied: selenium in /usr/local/lib/python3.12/dist-packages (4.36.0)\n",
            "Requirement already satisfied: urllib3<3.0,>=2.5.0 in /usr/local/lib/python3.12/dist-packages (from urllib3[socks]<3.0,>=2.5.0->selenium) (2.5.0)\n",
            "Requirement already satisfied: trio<1.0,>=0.30.0 in /usr/local/lib/python3.12/dist-packages (from selenium) (0.31.0)\n",
            "Requirement already satisfied: trio-websocket<1.0,>=0.12.2 in /usr/local/lib/python3.12/dist-packages (from selenium) (0.12.2)\n",
            "Requirement already satisfied: certifi>=2025.6.15 in /usr/local/lib/python3.12/dist-packages (from selenium) (2025.10.5)\n",
            "Requirement already satisfied: typing_extensions<5.0,>=4.14.0 in /usr/local/lib/python3.12/dist-packages (from selenium) (4.15.0)\n",
            "Requirement already satisfied: websocket-client<2.0,>=1.8.0 in /usr/local/lib/python3.12/dist-packages (from selenium) (1.9.0)\n",
            "Requirement already satisfied: attrs>=23.2.0 in /usr/local/lib/python3.12/dist-packages (from trio<1.0,>=0.30.0->selenium) (25.4.0)\n",
            "Requirement already satisfied: sortedcontainers in /usr/local/lib/python3.12/dist-packages (from trio<1.0,>=0.30.0->selenium) (2.4.0)\n",
            "Requirement already satisfied: idna in /usr/local/lib/python3.12/dist-packages (from trio<1.0,>=0.30.0->selenium) (3.10)\n",
            "Requirement already satisfied: outcome in /usr/local/lib/python3.12/dist-packages (from trio<1.0,>=0.30.0->selenium) (1.3.0.post0)\n",
            "Requirement already satisfied: sniffio>=1.3.0 in /usr/local/lib/python3.12/dist-packages (from trio<1.0,>=0.30.0->selenium) (1.3.1)\n",
            "Requirement already satisfied: wsproto>=0.14 in /usr/local/lib/python3.12/dist-packages (from trio-websocket<1.0,>=0.12.2->selenium) (1.2.0)\n",
            "Requirement already satisfied: pysocks!=1.5.7,<2.0,>=1.5.6 in /usr/local/lib/python3.12/dist-packages (from urllib3[socks]<3.0,>=2.5.0->selenium) (1.7.1)\n",
            "Requirement already satisfied: h11<1,>=0.9.0 in /usr/local/lib/python3.12/dist-packages (from wsproto>=0.14->trio-websocket<1.0,>=0.12.2->selenium) (0.16.0)\n",
            "Requirement already satisfied: webdriver-manager in /usr/local/lib/python3.12/dist-packages (4.0.2)\n",
            "Requirement already satisfied: requests in /usr/local/lib/python3.12/dist-packages (from webdriver-manager) (2.32.4)\n",
            "Requirement already satisfied: python-dotenv in /usr/local/lib/python3.12/dist-packages (from webdriver-manager) (1.1.1)\n",
            "Requirement already satisfied: packaging in /usr/local/lib/python3.12/dist-packages (from webdriver-manager) (25.0)\n",
            "Requirement already satisfied: charset_normalizer<4,>=2 in /usr/local/lib/python3.12/dist-packages (from requests->webdriver-manager) (3.4.3)\n",
            "Requirement already satisfied: idna<4,>=2.5 in /usr/local/lib/python3.12/dist-packages (from requests->webdriver-manager) (3.10)\n",
            "Requirement already satisfied: urllib3<3,>=1.21.1 in /usr/local/lib/python3.12/dist-packages (from requests->webdriver-manager) (2.5.0)\n",
            "Requirement already satisfied: certifi>=2017.4.17 in /usr/local/lib/python3.12/dist-packages (from requests->webdriver-manager) (2025.10.5)\n"
          ]
        },
        {
          "output_type": "error",
          "ename": "KeyboardInterrupt",
          "evalue": "",
          "traceback": [
            "\u001b[0;31m---------------------------------------------------------------------------\u001b[0m",
            "\u001b[0;31mKeyboardInterrupt\u001b[0m                         Traceback (most recent call last)",
            "\u001b[0;32m/tmp/ipython-input-2929495193.py\u001b[0m in \u001b[0;36m<cell line: 0>\u001b[0;34m()\u001b[0m\n\u001b[1;32m      1\u001b[0m \u001b[0mget_ipython\u001b[0m\u001b[0;34m(\u001b[0m\u001b[0;34m)\u001b[0m\u001b[0;34m.\u001b[0m\u001b[0msystem\u001b[0m\u001b[0;34m(\u001b[0m\u001b[0;34m'pip install selenium'\u001b[0m\u001b[0;34m)\u001b[0m\u001b[0;34m\u001b[0m\u001b[0;34m\u001b[0m\u001b[0m\n\u001b[0;32m----> 2\u001b[0;31m \u001b[0mget_ipython\u001b[0m\u001b[0;34m(\u001b[0m\u001b[0;34m)\u001b[0m\u001b[0;34m.\u001b[0m\u001b[0msystem\u001b[0m\u001b[0;34m(\u001b[0m\u001b[0;34m'pip install webdriver-manager'\u001b[0m\u001b[0;34m)\u001b[0m\u001b[0;34m\u001b[0m\u001b[0;34m\u001b[0m\u001b[0m\n\u001b[0m",
            "\u001b[0;32m/usr/local/lib/python3.12/dist-packages/google/colab/_shell.py\u001b[0m in \u001b[0;36msystem\u001b[0;34m(self, *args, **kwargs)\u001b[0m\n\u001b[1;32m    150\u001b[0m \u001b[0;34m\u001b[0m\u001b[0m\n\u001b[1;32m    151\u001b[0m     \u001b[0;32mif\u001b[0m \u001b[0mpip_warn\u001b[0m\u001b[0;34m:\u001b[0m\u001b[0;34m\u001b[0m\u001b[0;34m\u001b[0m\u001b[0m\n\u001b[0;32m--> 152\u001b[0;31m       \u001b[0m_pip\u001b[0m\u001b[0;34m.\u001b[0m\u001b[0mprint_previous_import_warning\u001b[0m\u001b[0;34m(\u001b[0m\u001b[0moutput\u001b[0m\u001b[0;34m)\u001b[0m\u001b[0;34m\u001b[0m\u001b[0;34m\u001b[0m\u001b[0m\n\u001b[0m\u001b[1;32m    153\u001b[0m \u001b[0;34m\u001b[0m\u001b[0m\n\u001b[1;32m    154\u001b[0m   \u001b[0;32mdef\u001b[0m \u001b[0m_send_error\u001b[0m\u001b[0;34m(\u001b[0m\u001b[0mself\u001b[0m\u001b[0;34m,\u001b[0m \u001b[0mexc_content\u001b[0m\u001b[0;34m)\u001b[0m\u001b[0;34m:\u001b[0m\u001b[0;34m\u001b[0m\u001b[0;34m\u001b[0m\u001b[0m\n",
            "\u001b[0;32m/usr/local/lib/python3.12/dist-packages/google/colab/_pip.py\u001b[0m in \u001b[0;36mprint_previous_import_warning\u001b[0;34m(output)\u001b[0m\n\u001b[1;32m     54\u001b[0m \u001b[0;32mdef\u001b[0m \u001b[0mprint_previous_import_warning\u001b[0m\u001b[0;34m(\u001b[0m\u001b[0moutput\u001b[0m\u001b[0;34m)\u001b[0m\u001b[0;34m:\u001b[0m\u001b[0;34m\u001b[0m\u001b[0;34m\u001b[0m\u001b[0m\n\u001b[1;32m     55\u001b[0m   \u001b[0;34m\"\"\"Prints a warning about previously imported packages.\"\"\"\u001b[0m\u001b[0;34m\u001b[0m\u001b[0;34m\u001b[0m\u001b[0m\n\u001b[0;32m---> 56\u001b[0;31m   \u001b[0mpackages\u001b[0m \u001b[0;34m=\u001b[0m \u001b[0m_previously_imported_packages\u001b[0m\u001b[0;34m(\u001b[0m\u001b[0moutput\u001b[0m\u001b[0;34m)\u001b[0m\u001b[0;34m\u001b[0m\u001b[0;34m\u001b[0m\u001b[0m\n\u001b[0m\u001b[1;32m     57\u001b[0m   \u001b[0;32mif\u001b[0m \u001b[0mpackages\u001b[0m\u001b[0;34m:\u001b[0m\u001b[0;34m\u001b[0m\u001b[0;34m\u001b[0m\u001b[0m\n\u001b[1;32m     58\u001b[0m     \u001b[0;31m# display a list of packages using the colab-display-data mimetype, which\u001b[0m\u001b[0;34m\u001b[0m\u001b[0;34m\u001b[0m\u001b[0m\n",
            "\u001b[0;32m/usr/local/lib/python3.12/dist-packages/google/colab/_pip.py\u001b[0m in \u001b[0;36m_previously_imported_packages\u001b[0;34m(pip_output)\u001b[0m\n\u001b[1;32m     48\u001b[0m \u001b[0;32mdef\u001b[0m \u001b[0m_previously_imported_packages\u001b[0m\u001b[0;34m(\u001b[0m\u001b[0mpip_output\u001b[0m\u001b[0;34m)\u001b[0m\u001b[0;34m:\u001b[0m\u001b[0;34m\u001b[0m\u001b[0;34m\u001b[0m\u001b[0m\n\u001b[1;32m     49\u001b[0m   \u001b[0;34m\"\"\"List all previously imported packages from a pip install.\"\"\"\u001b[0m\u001b[0;34m\u001b[0m\u001b[0;34m\u001b[0m\u001b[0m\n\u001b[0;32m---> 50\u001b[0;31m   \u001b[0minstalled\u001b[0m \u001b[0;34m=\u001b[0m \u001b[0mset\u001b[0m\u001b[0;34m(\u001b[0m\u001b[0m_extract_toplevel_packages\u001b[0m\u001b[0;34m(\u001b[0m\u001b[0mpip_output\u001b[0m\u001b[0;34m)\u001b[0m\u001b[0;34m)\u001b[0m\u001b[0;34m\u001b[0m\u001b[0;34m\u001b[0m\u001b[0m\n\u001b[0m\u001b[1;32m     51\u001b[0m   \u001b[0;32mreturn\u001b[0m \u001b[0msorted\u001b[0m\u001b[0;34m(\u001b[0m\u001b[0minstalled\u001b[0m\u001b[0;34m.\u001b[0m\u001b[0mintersection\u001b[0m\u001b[0;34m(\u001b[0m\u001b[0mset\u001b[0m\u001b[0;34m(\u001b[0m\u001b[0msys\u001b[0m\u001b[0;34m.\u001b[0m\u001b[0mmodules\u001b[0m\u001b[0;34m)\u001b[0m\u001b[0;34m)\u001b[0m\u001b[0;34m)\u001b[0m\u001b[0;34m\u001b[0m\u001b[0;34m\u001b[0m\u001b[0m\n\u001b[1;32m     52\u001b[0m \u001b[0;34m\u001b[0m\u001b[0m\n",
            "\u001b[0;32m/usr/local/lib/python3.12/dist-packages/google/colab/_pip.py\u001b[0m in \u001b[0;36m_extract_toplevel_packages\u001b[0;34m(pip_output)\u001b[0m\n\u001b[1;32m     37\u001b[0m   \u001b[0;34m\"\"\"Extract the list of toplevel packages associated with a pip install.\"\"\"\u001b[0m\u001b[0;34m\u001b[0m\u001b[0;34m\u001b[0m\u001b[0m\n\u001b[1;32m     38\u001b[0m   \u001b[0mtoplevel\u001b[0m \u001b[0;34m=\u001b[0m \u001b[0mcollections\u001b[0m\u001b[0;34m.\u001b[0m\u001b[0mdefaultdict\u001b[0m\u001b[0;34m(\u001b[0m\u001b[0mset\u001b[0m\u001b[0;34m)\u001b[0m\u001b[0;34m\u001b[0m\u001b[0;34m\u001b[0m\u001b[0m\n\u001b[0;32m---> 39\u001b[0;31m   \u001b[0;32mfor\u001b[0m \u001b[0mm\u001b[0m\u001b[0;34m,\u001b[0m \u001b[0mps\u001b[0m \u001b[0;32min\u001b[0m \u001b[0mimportlib\u001b[0m\u001b[0;34m.\u001b[0m\u001b[0mmetadata\u001b[0m\u001b[0;34m.\u001b[0m\u001b[0mpackages_distributions\u001b[0m\u001b[0;34m(\u001b[0m\u001b[0;34m)\u001b[0m\u001b[0;34m.\u001b[0m\u001b[0mitems\u001b[0m\u001b[0;34m(\u001b[0m\u001b[0;34m)\u001b[0m\u001b[0;34m:\u001b[0m\u001b[0;34m\u001b[0m\u001b[0;34m\u001b[0m\u001b[0m\n\u001b[0m\u001b[1;32m     40\u001b[0m     \u001b[0;32mfor\u001b[0m \u001b[0mp\u001b[0m \u001b[0;32min\u001b[0m \u001b[0mps\u001b[0m\u001b[0;34m:\u001b[0m\u001b[0;34m\u001b[0m\u001b[0;34m\u001b[0m\u001b[0m\n\u001b[1;32m     41\u001b[0m       \u001b[0mtoplevel\u001b[0m\u001b[0;34m[\u001b[0m\u001b[0mp\u001b[0m\u001b[0;34m]\u001b[0m\u001b[0;34m.\u001b[0m\u001b[0madd\u001b[0m\u001b[0;34m(\u001b[0m\u001b[0mm\u001b[0m\u001b[0;34m)\u001b[0m\u001b[0;34m\u001b[0m\u001b[0;34m\u001b[0m\u001b[0m\n",
            "\u001b[0;32m/usr/lib/python3.12/importlib/metadata/__init__.py\u001b[0m in \u001b[0;36mpackages_distributions\u001b[0;34m()\u001b[0m\n\u001b[1;32m    946\u001b[0m     \u001b[0;32mfor\u001b[0m \u001b[0mdist\u001b[0m \u001b[0;32min\u001b[0m \u001b[0mdistributions\u001b[0m\u001b[0;34m(\u001b[0m\u001b[0;34m)\u001b[0m\u001b[0;34m:\u001b[0m\u001b[0;34m\u001b[0m\u001b[0;34m\u001b[0m\u001b[0m\n\u001b[1;32m    947\u001b[0m         \u001b[0;32mfor\u001b[0m \u001b[0mpkg\u001b[0m \u001b[0;32min\u001b[0m \u001b[0m_top_level_declared\u001b[0m\u001b[0;34m(\u001b[0m\u001b[0mdist\u001b[0m\u001b[0;34m)\u001b[0m \u001b[0;32mor\u001b[0m \u001b[0m_top_level_inferred\u001b[0m\u001b[0;34m(\u001b[0m\u001b[0mdist\u001b[0m\u001b[0;34m)\u001b[0m\u001b[0;34m:\u001b[0m\u001b[0;34m\u001b[0m\u001b[0;34m\u001b[0m\u001b[0m\n\u001b[0;32m--> 948\u001b[0;31m             \u001b[0mpkg_to_dist\u001b[0m\u001b[0;34m[\u001b[0m\u001b[0mpkg\u001b[0m\u001b[0;34m]\u001b[0m\u001b[0;34m.\u001b[0m\u001b[0mappend\u001b[0m\u001b[0;34m(\u001b[0m\u001b[0mdist\u001b[0m\u001b[0;34m.\u001b[0m\u001b[0mmetadata\u001b[0m\u001b[0;34m[\u001b[0m\u001b[0;34m'Name'\u001b[0m\u001b[0;34m]\u001b[0m\u001b[0;34m)\u001b[0m\u001b[0;34m\u001b[0m\u001b[0;34m\u001b[0m\u001b[0m\n\u001b[0m\u001b[1;32m    949\u001b[0m     \u001b[0;32mreturn\u001b[0m \u001b[0mdict\u001b[0m\u001b[0;34m(\u001b[0m\u001b[0mpkg_to_dist\u001b[0m\u001b[0;34m)\u001b[0m\u001b[0;34m\u001b[0m\u001b[0;34m\u001b[0m\u001b[0m\n\u001b[1;32m    950\u001b[0m \u001b[0;34m\u001b[0m\u001b[0m\n",
            "\u001b[0;32m/usr/local/lib/python3.12/dist-packages/importlib_metadata/__init__.py\u001b[0m in \u001b[0;36mmetadata\u001b[0;34m(self)\u001b[0m\n\u001b[1;32m    532\u001b[0m             \u001b[0;32mor\u001b[0m \u001b[0mself\u001b[0m\u001b[0;34m.\u001b[0m\u001b[0mread_text\u001b[0m\u001b[0;34m(\u001b[0m\u001b[0;34m''\u001b[0m\u001b[0;34m)\u001b[0m\u001b[0;34m\u001b[0m\u001b[0;34m\u001b[0m\u001b[0m\n\u001b[1;32m    533\u001b[0m         )\n\u001b[0;32m--> 534\u001b[0;31m         \u001b[0;32mreturn\u001b[0m \u001b[0mself\u001b[0m\u001b[0;34m.\u001b[0m\u001b[0m_assemble_message\u001b[0m\u001b[0;34m(\u001b[0m\u001b[0mtext\u001b[0m\u001b[0;34m)\u001b[0m\u001b[0;34m\u001b[0m\u001b[0;34m\u001b[0m\u001b[0m\n\u001b[0m\u001b[1;32m    535\u001b[0m \u001b[0;34m\u001b[0m\u001b[0m\n\u001b[1;32m    536\u001b[0m     \u001b[0;34m@\u001b[0m\u001b[0mstaticmethod\u001b[0m\u001b[0;34m\u001b[0m\u001b[0;34m\u001b[0m\u001b[0m\n",
            "\u001b[0;32m/usr/local/lib/python3.12/dist-packages/importlib_metadata/_functools.py\u001b[0m in \u001b[0;36mwrapper\u001b[0;34m(param, *args, **kwargs)\u001b[0m\n\u001b[1;32m    100\u001b[0m     \u001b[0;32mdef\u001b[0m \u001b[0mwrapper\u001b[0m\u001b[0;34m(\u001b[0m\u001b[0mparam\u001b[0m\u001b[0;34m,\u001b[0m \u001b[0;34m*\u001b[0m\u001b[0margs\u001b[0m\u001b[0;34m,\u001b[0m \u001b[0;34m**\u001b[0m\u001b[0mkwargs\u001b[0m\u001b[0;34m)\u001b[0m\u001b[0;34m:\u001b[0m\u001b[0;34m\u001b[0m\u001b[0;34m\u001b[0m\u001b[0m\n\u001b[1;32m    101\u001b[0m         \u001b[0;32mif\u001b[0m \u001b[0mparam\u001b[0m \u001b[0;32mis\u001b[0m \u001b[0;32mnot\u001b[0m \u001b[0;32mNone\u001b[0m\u001b[0;34m:\u001b[0m\u001b[0;34m\u001b[0m\u001b[0;34m\u001b[0m\u001b[0m\n\u001b[0;32m--> 102\u001b[0;31m             \u001b[0;32mreturn\u001b[0m \u001b[0mfunc\u001b[0m\u001b[0;34m(\u001b[0m\u001b[0mparam\u001b[0m\u001b[0;34m,\u001b[0m \u001b[0;34m*\u001b[0m\u001b[0margs\u001b[0m\u001b[0;34m,\u001b[0m \u001b[0;34m**\u001b[0m\u001b[0mkwargs\u001b[0m\u001b[0;34m)\u001b[0m\u001b[0;34m\u001b[0m\u001b[0;34m\u001b[0m\u001b[0m\n\u001b[0m\u001b[1;32m    103\u001b[0m \u001b[0;34m\u001b[0m\u001b[0m\n\u001b[1;32m    104\u001b[0m     \u001b[0;32mreturn\u001b[0m \u001b[0mwrapper\u001b[0m\u001b[0;34m\u001b[0m\u001b[0;34m\u001b[0m\u001b[0m\n",
            "\u001b[0;32m/usr/local/lib/python3.12/dist-packages/importlib_metadata/__init__.py\u001b[0m in \u001b[0;36m_assemble_message\u001b[0;34m(text)\u001b[0m\n\u001b[1;32m    540\u001b[0m         \u001b[0;32mfrom\u001b[0m \u001b[0;34m.\u001b[0m \u001b[0;32mimport\u001b[0m \u001b[0m_adapters\u001b[0m\u001b[0;34m\u001b[0m\u001b[0;34m\u001b[0m\u001b[0m\n\u001b[1;32m    541\u001b[0m \u001b[0;34m\u001b[0m\u001b[0m\n\u001b[0;32m--> 542\u001b[0;31m         \u001b[0;32mreturn\u001b[0m \u001b[0m_adapters\u001b[0m\u001b[0;34m.\u001b[0m\u001b[0mMessage\u001b[0m\u001b[0;34m(\u001b[0m\u001b[0memail\u001b[0m\u001b[0;34m.\u001b[0m\u001b[0mmessage_from_string\u001b[0m\u001b[0;34m(\u001b[0m\u001b[0mtext\u001b[0m\u001b[0;34m)\u001b[0m\u001b[0;34m)\u001b[0m\u001b[0;34m\u001b[0m\u001b[0;34m\u001b[0m\u001b[0m\n\u001b[0m\u001b[1;32m    543\u001b[0m \u001b[0;34m\u001b[0m\u001b[0m\n\u001b[1;32m    544\u001b[0m     \u001b[0;34m@\u001b[0m\u001b[0mproperty\u001b[0m\u001b[0;34m\u001b[0m\u001b[0;34m\u001b[0m\u001b[0m\n",
            "\u001b[0;32m/usr/lib/python3.12/email/__init__.py\u001b[0m in \u001b[0;36mmessage_from_string\u001b[0;34m(s, *args, **kws)\u001b[0m\n\u001b[1;32m     35\u001b[0m     \"\"\"\n\u001b[1;32m     36\u001b[0m     \u001b[0;32mfrom\u001b[0m \u001b[0memail\u001b[0m\u001b[0;34m.\u001b[0m\u001b[0mparser\u001b[0m \u001b[0;32mimport\u001b[0m \u001b[0mParser\u001b[0m\u001b[0;34m\u001b[0m\u001b[0;34m\u001b[0m\u001b[0m\n\u001b[0;32m---> 37\u001b[0;31m     \u001b[0;32mreturn\u001b[0m \u001b[0mParser\u001b[0m\u001b[0;34m(\u001b[0m\u001b[0;34m*\u001b[0m\u001b[0margs\u001b[0m\u001b[0;34m,\u001b[0m \u001b[0;34m**\u001b[0m\u001b[0mkws\u001b[0m\u001b[0;34m)\u001b[0m\u001b[0;34m.\u001b[0m\u001b[0mparsestr\u001b[0m\u001b[0;34m(\u001b[0m\u001b[0ms\u001b[0m\u001b[0;34m)\u001b[0m\u001b[0;34m\u001b[0m\u001b[0;34m\u001b[0m\u001b[0m\n\u001b[0m\u001b[1;32m     38\u001b[0m \u001b[0;34m\u001b[0m\u001b[0m\n\u001b[1;32m     39\u001b[0m \u001b[0;32mdef\u001b[0m \u001b[0mmessage_from_bytes\u001b[0m\u001b[0;34m(\u001b[0m\u001b[0ms\u001b[0m\u001b[0;34m,\u001b[0m \u001b[0;34m*\u001b[0m\u001b[0margs\u001b[0m\u001b[0;34m,\u001b[0m \u001b[0;34m**\u001b[0m\u001b[0mkws\u001b[0m\u001b[0;34m)\u001b[0m\u001b[0;34m:\u001b[0m\u001b[0;34m\u001b[0m\u001b[0;34m\u001b[0m\u001b[0m\n",
            "\u001b[0;32m/usr/lib/python3.12/email/parser.py\u001b[0m in \u001b[0;36mparsestr\u001b[0;34m(self, text, headersonly)\u001b[0m\n\u001b[1;32m     62\u001b[0m         \u001b[0mthe\u001b[0m \u001b[0mfile\u001b[0m\u001b[0;34m.\u001b[0m\u001b[0;34m\u001b[0m\u001b[0;34m\u001b[0m\u001b[0m\n\u001b[1;32m     63\u001b[0m         \"\"\"\n\u001b[0;32m---> 64\u001b[0;31m         \u001b[0;32mreturn\u001b[0m \u001b[0mself\u001b[0m\u001b[0;34m.\u001b[0m\u001b[0mparse\u001b[0m\u001b[0;34m(\u001b[0m\u001b[0mStringIO\u001b[0m\u001b[0;34m(\u001b[0m\u001b[0mtext\u001b[0m\u001b[0;34m)\u001b[0m\u001b[0;34m,\u001b[0m \u001b[0mheadersonly\u001b[0m\u001b[0;34m=\u001b[0m\u001b[0mheadersonly\u001b[0m\u001b[0;34m)\u001b[0m\u001b[0;34m\u001b[0m\u001b[0;34m\u001b[0m\u001b[0m\n\u001b[0m\u001b[1;32m     65\u001b[0m \u001b[0;34m\u001b[0m\u001b[0m\n\u001b[1;32m     66\u001b[0m \u001b[0;34m\u001b[0m\u001b[0m\n",
            "\u001b[0;32m/usr/lib/python3.12/email/parser.py\u001b[0m in \u001b[0;36mparse\u001b[0;34m(self, fp, headersonly)\u001b[0m\n\u001b[1;32m     51\u001b[0m             \u001b[0mfeedparser\u001b[0m\u001b[0;34m.\u001b[0m\u001b[0m_set_headersonly\u001b[0m\u001b[0;34m(\u001b[0m\u001b[0;34m)\u001b[0m\u001b[0;34m\u001b[0m\u001b[0;34m\u001b[0m\u001b[0m\n\u001b[1;32m     52\u001b[0m         \u001b[0;32mwhile\u001b[0m \u001b[0mdata\u001b[0m \u001b[0;34m:=\u001b[0m \u001b[0mfp\u001b[0m\u001b[0;34m.\u001b[0m\u001b[0mread\u001b[0m\u001b[0;34m(\u001b[0m\u001b[0;36m8192\u001b[0m\u001b[0;34m)\u001b[0m\u001b[0;34m:\u001b[0m\u001b[0;34m\u001b[0m\u001b[0;34m\u001b[0m\u001b[0m\n\u001b[0;32m---> 53\u001b[0;31m             \u001b[0mfeedparser\u001b[0m\u001b[0;34m.\u001b[0m\u001b[0mfeed\u001b[0m\u001b[0;34m(\u001b[0m\u001b[0mdata\u001b[0m\u001b[0;34m)\u001b[0m\u001b[0;34m\u001b[0m\u001b[0;34m\u001b[0m\u001b[0m\n\u001b[0m\u001b[1;32m     54\u001b[0m         \u001b[0;32mreturn\u001b[0m \u001b[0mfeedparser\u001b[0m\u001b[0;34m.\u001b[0m\u001b[0mclose\u001b[0m\u001b[0;34m(\u001b[0m\u001b[0;34m)\u001b[0m\u001b[0;34m\u001b[0m\u001b[0;34m\u001b[0m\u001b[0m\n\u001b[1;32m     55\u001b[0m \u001b[0;34m\u001b[0m\u001b[0m\n",
            "\u001b[0;32m/usr/lib/python3.12/email/feedparser.py\u001b[0m in \u001b[0;36mfeed\u001b[0;34m(self, data)\u001b[0m\n\u001b[1;32m    172\u001b[0m         \u001b[0;34m\"\"\"Push more data into the parser.\"\"\"\u001b[0m\u001b[0;34m\u001b[0m\u001b[0;34m\u001b[0m\u001b[0m\n\u001b[1;32m    173\u001b[0m         \u001b[0mself\u001b[0m\u001b[0;34m.\u001b[0m\u001b[0m_input\u001b[0m\u001b[0;34m.\u001b[0m\u001b[0mpush\u001b[0m\u001b[0;34m(\u001b[0m\u001b[0mdata\u001b[0m\u001b[0;34m)\u001b[0m\u001b[0;34m\u001b[0m\u001b[0;34m\u001b[0m\u001b[0m\n\u001b[0;32m--> 174\u001b[0;31m         \u001b[0mself\u001b[0m\u001b[0;34m.\u001b[0m\u001b[0m_call_parse\u001b[0m\u001b[0;34m(\u001b[0m\u001b[0;34m)\u001b[0m\u001b[0;34m\u001b[0m\u001b[0;34m\u001b[0m\u001b[0m\n\u001b[0m\u001b[1;32m    175\u001b[0m \u001b[0;34m\u001b[0m\u001b[0m\n\u001b[1;32m    176\u001b[0m     \u001b[0;32mdef\u001b[0m \u001b[0m_call_parse\u001b[0m\u001b[0;34m(\u001b[0m\u001b[0mself\u001b[0m\u001b[0;34m)\u001b[0m\u001b[0;34m:\u001b[0m\u001b[0;34m\u001b[0m\u001b[0;34m\u001b[0m\u001b[0m\n",
            "\u001b[0;32m/usr/lib/python3.12/email/feedparser.py\u001b[0m in \u001b[0;36m_call_parse\u001b[0;34m(self)\u001b[0m\n\u001b[1;32m    176\u001b[0m     \u001b[0;32mdef\u001b[0m \u001b[0m_call_parse\u001b[0m\u001b[0;34m(\u001b[0m\u001b[0mself\u001b[0m\u001b[0;34m)\u001b[0m\u001b[0;34m:\u001b[0m\u001b[0;34m\u001b[0m\u001b[0;34m\u001b[0m\u001b[0m\n\u001b[1;32m    177\u001b[0m         \u001b[0;32mtry\u001b[0m\u001b[0;34m:\u001b[0m\u001b[0;34m\u001b[0m\u001b[0;34m\u001b[0m\u001b[0m\n\u001b[0;32m--> 178\u001b[0;31m             \u001b[0mself\u001b[0m\u001b[0;34m.\u001b[0m\u001b[0m_parse\u001b[0m\u001b[0;34m(\u001b[0m\u001b[0;34m)\u001b[0m\u001b[0;34m\u001b[0m\u001b[0;34m\u001b[0m\u001b[0m\n\u001b[0m\u001b[1;32m    179\u001b[0m         \u001b[0;32mexcept\u001b[0m \u001b[0mStopIteration\u001b[0m\u001b[0;34m:\u001b[0m\u001b[0;34m\u001b[0m\u001b[0;34m\u001b[0m\u001b[0m\n\u001b[1;32m    180\u001b[0m             \u001b[0;32mpass\u001b[0m\u001b[0;34m\u001b[0m\u001b[0;34m\u001b[0m\u001b[0m\n",
            "\u001b[0;32m/usr/lib/python3.12/email/feedparser.py\u001b[0m in \u001b[0;36m_parsegen\u001b[0;34m(self)\u001b[0m\n\u001b[1;32m    233\u001b[0m                     \u001b[0mself\u001b[0m\u001b[0;34m.\u001b[0m\u001b[0m_input\u001b[0m\u001b[0;34m.\u001b[0m\u001b[0munreadline\u001b[0m\u001b[0;34m(\u001b[0m\u001b[0mline\u001b[0m\u001b[0;34m)\u001b[0m\u001b[0;34m\u001b[0m\u001b[0;34m\u001b[0m\u001b[0m\n\u001b[1;32m    234\u001b[0m                 \u001b[0;32mbreak\u001b[0m\u001b[0;34m\u001b[0m\u001b[0;34m\u001b[0m\u001b[0m\n\u001b[0;32m--> 235\u001b[0;31m             \u001b[0mheaders\u001b[0m\u001b[0;34m.\u001b[0m\u001b[0mappend\u001b[0m\u001b[0;34m(\u001b[0m\u001b[0mline\u001b[0m\u001b[0;34m)\u001b[0m\u001b[0;34m\u001b[0m\u001b[0;34m\u001b[0m\u001b[0m\n\u001b[0m\u001b[1;32m    236\u001b[0m         \u001b[0;31m# Done with the headers, so parse them and figure out what we're\u001b[0m\u001b[0;34m\u001b[0m\u001b[0;34m\u001b[0m\u001b[0m\n\u001b[1;32m    237\u001b[0m         \u001b[0;31m# supposed to see in the body of the message.\u001b[0m\u001b[0;34m\u001b[0m\u001b[0;34m\u001b[0m\u001b[0m\n",
            "\u001b[0;31mKeyboardInterrupt\u001b[0m: "
          ]
        }
      ]
    },
    {
      "cell_type": "code",
      "source": [
        "from selenium import webdriver\n",
        "from selenium.webdriver.chrome.service import Service as ChromeService # webdriver_manager\n",
        "from webdriver_manager.chrome import ChromeDriverManager # webdriver_manager\n",
        "from selenium.webdriver.chrome.options import Options\n",
        "from selenium.webdriver.common.by import By\n",
        "from selenium.webdriver.support.ui import WebDriverWait\n",
        "from selenium.webdriver.support import expected_conditions as EC"
      ],
      "metadata": {
        "id": "U9Q56El-UtQ1"
      },
      "execution_count": null,
      "outputs": []
    }
  ]
}