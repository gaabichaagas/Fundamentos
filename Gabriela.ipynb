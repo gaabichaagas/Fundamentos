{
  "nbformat": 4,
  "nbformat_minor": 0,
  "metadata": {
    "colab": {
      "provenance": [],
      "toc_visible": true,
      "authorship_tag": "ABX9TyOrkk/5rFxmxzqgK+LfN5ae",
      "include_colab_link": true
    },
    "kernelspec": {
      "name": "python3",
      "display_name": "Python 3"
    },
    "language_info": {
      "name": "python"
    }
  },
  "cells": [
    {
      "cell_type": "markdown",
      "metadata": {
        "id": "view-in-github",
        "colab_type": "text"
      },
      "source": [
        "<a href=\"https://colab.research.google.com/github/gaabichaagas/Fundamentos/blob/main/Gabriela.ipynb\" target=\"_parent\"><img src=\"https://colab.research.google.com/assets/colab-badge.svg\" alt=\"Open In Colab\"/></a>"
      ]
    },
    {
      "cell_type": "markdown",
      "source": [
        "# Importações"
      ],
      "metadata": {
        "id": "FpkchMsY_CKq"
      }
    },
    {
      "cell_type": "code",
      "source": [
        "!pip install tinydb"
      ],
      "metadata": {
        "colab": {
          "base_uri": "https://localhost:8080/"
        },
        "id": "HZL04GVhCPBR",
        "outputId": "d7448da4-b442-450a-cf65-f6730bafb098"
      },
      "execution_count": 2,
      "outputs": [
        {
          "output_type": "stream",
          "name": "stdout",
          "text": [
            "Collecting tinydb\n",
            "  Downloading tinydb-4.8.2-py3-none-any.whl.metadata (6.7 kB)\n",
            "Downloading tinydb-4.8.2-py3-none-any.whl (24 kB)\n",
            "Installing collected packages: tinydb\n",
            "Successfully installed tinydb-4.8.2\n"
          ]
        }
      ]
    },
    {
      "cell_type": "code",
      "execution_count": 1,
      "metadata": {
        "colab": {
          "base_uri": "https://localhost:8080/"
        },
        "id": "9tzO2MvA-qv0",
        "outputId": "6f79ef1a-5576-4123-ea0a-6ba16907a86f"
      },
      "outputs": [
        {
          "output_type": "stream",
          "name": "stdout",
          "text": [
            "Olá, Mundo\n"
          ]
        }
      ],
      "source": [
        "import pandas as pd\n",
        "from tinydb import TinyDB, query\n",
        "import os"
      ]
    },
    {
      "cell_type": "markdown",
      "source": [
        "#Noções Gerais"
      ],
      "metadata": {
        "id": "a6rHyjQZAp1Y"
      }
    },
    {
      "cell_type": "markdown",
      "source": [
        "## Variavéis, tipos de dados e loops\n",
        "\n",
        "- Criar uma lista com os nomes dos cursos da Unesp Franca (Colocar dentro de uma variavél)\n",
        "- Percorrer essa lista com o looping for\n",
        "- Utilizar dentro do loop for, os condicionais para printar os cursos dos seguintes estudantes:\n",
        "  - Mavi (Relações Internacionais)\n",
        "  - Lígia (Serviço Social)\n",
        "  - Caio (História)\n",
        "  - Ausente (Direito)"
      ],
      "metadata": {
        "id": "xctExumFCwdb"
      }
    },
    {
      "cell_type": "code",
      "source": [
        "cursos = [\"Relações Internacionais\", \"Serviço Social\", \"História\", \"Direito\"]\n",
        "\n",
        "for curso in cursos:\n",
        "  if curso == \"Relações Internacionais\":\n",
        "    estudante = \"Mavi\"\n",
        "  elif curso == \"Serviço Social\":\n",
        "    estudante = \"Lígia\"\n",
        "  elif curso == \"História\":\n",
        "    estudante = \"Caio\"\n",
        "  else:\n",
        "    estudante = \"Ausente\"\n",
        "\n",
        "  print(f\"O estudante {estudante.upper()} do curso de {curso.title()}\")"
      ],
      "metadata": {
        "colab": {
          "base_uri": "https://localhost:8080/"
        },
        "id": "_z-KES2lCscu",
        "outputId": "0757e770-6be0-47db-d50f-13c09aa64e93"
      },
      "execution_count": 11,
      "outputs": [
        {
          "output_type": "stream",
          "name": "stdout",
          "text": [
            "O estudante AUSENTE do curso de Relações Internacionais\n",
            "O estudante LÍGIA do curso de Serviço Social\n",
            "O estudante CAIO do curso de História\n",
            "O estudante AUSENTE do curso de Direito\n"
          ]
        }
      ]
    },
    {
      "cell_type": "code",
      "source": [
        "estudantes = {\n",
        "    \"Relações Internacionais\": \"Mavi\",\n",
        "    \"Serviço Social\": \"Lígia\",\n",
        "    \"História\": \"Caio\",\n",
        "    \"Direito\": \"Ausente\"\n",
        "}\n",
        "\n",
        "for curso in cursos:\n",
        "  if curso == \"Relações Internacionais\":\n",
        "    estudante = estudante[curso]\n",
        "  elif curso == \"Serviço Social\":\n",
        "    estudante = \"Lígia\"\n",
        "  elif curso == \"História\":\n",
        "    estudante = \"Caio\"\n",
        "  else:\n",
        "    estudante = \"Ausente\"\n",
        "\n",
        "  print(f\"O estudante {estudantes[estudante]} do curso {estudante}\")"
      ],
      "metadata": {
        "colab": {
          "base_uri": "https://localhost:8080/"
        },
        "id": "QJ44JEkAHnIo",
        "outputId": "06af52fa-4f6a-42bd-d982-8de5516e93c9"
      },
      "execution_count": 15,
      "outputs": [
        {
          "output_type": "stream",
          "name": "stdout",
          "text": [
            "O estudante Mavi do curso Relações Internacionais\n",
            "O estudante Lígia do curso Serviço Social\n",
            "O estudante Caio do curso História\n",
            "O estudante Ausente do curso Direito\n"
          ]
        }
      ]
    },
    {
      "cell_type": "code",
      "source": [
        "def funcao(nome):\n",
        "  \"\"\" Essa função mostra o nome\n",
        "  \"\"\"\n",
        "  print(f\"Olá, {nome}\")\n",
        "\n",
        "print(funcao(\"Gabriela\"))\n",
        "\n",
        "if __name__ == \"__main__\":\n",
        "  funcao(\"Gabriela\")\n",
        "\n",
        "# https://www.datacamp.com/pt/tutorial/if-name-equals-main-python\n"
      ],
      "metadata": {
        "colab": {
          "base_uri": "https://localhost:8080/"
        },
        "id": "52VdY_KlKMn-",
        "outputId": "90c786ea-cd28-4055-f9cf-61952a736499"
      },
      "execution_count": 20,
      "outputs": [
        {
          "output_type": "stream",
          "name": "stdout",
          "text": [
            "Olá, Gabriela\n",
            "None\n"
          ]
        }
      ]
    },
    {
      "cell_type": "markdown",
      "source": [
        "# Interações com Google Drive\n"
      ],
      "metadata": {
        "id": "-s3agiea_LB_"
      }
    }
  ]
}