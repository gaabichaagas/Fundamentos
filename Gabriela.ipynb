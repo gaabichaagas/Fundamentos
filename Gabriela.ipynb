{
  "nbformat": 4,
  "nbformat_minor": 0,
  "metadata": {
    "colab": {
      "provenance": [],
      "toc_visible": true,
      "authorship_tag": "ABX9TyN6JBsxG6l9zcwZpXrICuKg",
      "include_colab_link": true
    },
    "kernelspec": {
      "name": "python3",
      "display_name": "Python 3"
    },
    "language_info": {
      "name": "python"
    }
  },
  "cells": [
    {
      "cell_type": "markdown",
      "metadata": {
        "id": "view-in-github",
        "colab_type": "text"
      },
      "source": [
        "<a href=\"https://colab.research.google.com/github/gaabichaagas/Fundamentos/blob/main/Gabriela.ipynb\" target=\"_parent\"><img src=\"https://colab.research.google.com/assets/colab-badge.svg\" alt=\"Open In Colab\"/></a>"
      ]
    },
    {
      "cell_type": "markdown",
      "source": [
        "# Importações"
      ],
      "metadata": {
        "id": "FpkchMsY_CKq"
      }
    },
    {
      "cell_type": "code",
      "execution_count": 1,
      "metadata": {
        "colab": {
          "base_uri": "https://localhost:8080/"
        },
        "id": "9tzO2MvA-qv0",
        "outputId": "6f79ef1a-5576-4123-ea0a-6ba16907a86f"
      },
      "outputs": [
        {
          "output_type": "stream",
          "name": "stdout",
          "text": [
            "Olá, Mundo\n"
          ]
        }
      ],
      "source": [
        "print(\"Olá, Mundo\")"
      ]
    },
    {
      "cell_type": "markdown",
      "source": [
        "# Interações com Google Drive\n"
      ],
      "metadata": {
        "id": "-s3agiea_LB_"
      }
    }
  ]
}